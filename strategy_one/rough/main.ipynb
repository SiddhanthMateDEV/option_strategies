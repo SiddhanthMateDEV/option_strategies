{
 "cells": [
  {
   "cell_type": "code",
   "execution_count": 5,
   "metadata": {},
   "outputs": [
    {
     "name": "stderr",
     "output_type": "stream",
     "text": [
      "1724.46s - pydevd: Sending message related to process being replaced timed-out after 5 seconds\n"
     ]
    },
    {
     "name": "stdout",
     "output_type": "stream",
     "text": [
      "Collecting numpy\n",
      "  Using cached numpy-1.26.4-cp312-cp312-macosx_11_0_arm64.whl.metadata (61 kB)\n",
      "Using cached numpy-1.26.4-cp312-cp312-macosx_11_0_arm64.whl (13.7 MB)\n",
      "Installing collected packages: numpy\n",
      "Successfully installed numpy-1.26.4\n"
     ]
    }
   ],
   "source": [
    "!pip install numpy"
   ]
  },
  {
   "cell_type": "code",
   "execution_count": 6,
   "metadata": {},
   "outputs": [
    {
     "name": "stderr",
     "output_type": "stream",
     "text": [
      "1741.69s - pydevd: Sending message related to process being replaced timed-out after 5 seconds\n"
     ]
    },
    {
     "name": "stdout",
     "output_type": "stream",
     "text": [
      "Collecting pandas\n",
      "  Using cached pandas-2.2.2-cp312-cp312-macosx_11_0_arm64.whl.metadata (19 kB)\n",
      "Requirement already satisfied: numpy>=1.26.0 in /Users/siddhanthmate/Desktop/AllFiles/CODE/WORK_CODE/fintech/.venv/lib/python3.12/site-packages (from pandas) (1.26.4)\n",
      "Requirement already satisfied: python-dateutil>=2.8.2 in /Users/siddhanthmate/Desktop/AllFiles/CODE/WORK_CODE/fintech/.venv/lib/python3.12/site-packages (from pandas) (2.9.0.post0)\n",
      "Collecting pytz>=2020.1 (from pandas)\n",
      "  Using cached pytz-2024.1-py2.py3-none-any.whl.metadata (22 kB)\n",
      "Collecting tzdata>=2022.7 (from pandas)\n",
      "  Downloading tzdata-2024.1-py2.py3-none-any.whl.metadata (1.4 kB)\n",
      "Requirement already satisfied: six>=1.5 in /Users/siddhanthmate/Desktop/AllFiles/CODE/WORK_CODE/fintech/.venv/lib/python3.12/site-packages (from python-dateutil>=2.8.2->pandas) (1.16.0)\n",
      "Downloading pandas-2.2.2-cp312-cp312-macosx_11_0_arm64.whl (11.3 MB)\n",
      "\u001b[2K   \u001b[90m━━━━━━━━━━━━━━━━━━━━━━━━━━━━━━━━━━━━━━━━\u001b[0m \u001b[32m11.3/11.3 MB\u001b[0m \u001b[31m6.5 MB/s\u001b[0m eta \u001b[36m0:00:00\u001b[0m00:01\u001b[0m0:01\u001b[0m0m\n",
      "\u001b[?25hUsing cached pytz-2024.1-py2.py3-none-any.whl (505 kB)\n",
      "Downloading tzdata-2024.1-py2.py3-none-any.whl (345 kB)\n",
      "\u001b[2K   \u001b[90m━━━━━━━━━━━━━━━━━━━━━━━━━━━━━━━━━━━━━━━\u001b[0m \u001b[32m345.4/345.4 kB\u001b[0m \u001b[31m757.8 kB/s\u001b[0m eta \u001b[36m0:00:00\u001b[0m \u001b[36m0:00:01\u001b[0m\n",
      "\u001b[?25hInstalling collected packages: pytz, tzdata, pandas\n",
      "Successfully installed pandas-2.2.2 pytz-2024.1 tzdata-2024.1\n"
     ]
    }
   ],
   "source": [
    "!pip install pandas"
   ]
  },
  {
   "cell_type": "code",
   "execution_count": 7,
   "metadata": {},
   "outputs": [],
   "source": [
    "import numpy as np \n",
    "import pandas as pd"
   ]
  },
  {
   "cell_type": "code",
   "execution_count": 8,
   "metadata": {},
   "outputs": [],
   "source": [
    "df=pd.read_csv(\"/Users/siddhanthmate/Desktop/AllFiles/CODE/WORK_CODE/fintech/DATA/options_data/2022/14112022.csv\")"
   ]
  },
  {
   "cell_type": "code",
   "execution_count": 9,
   "metadata": {},
   "outputs": [
    {
     "data": {
      "text/html": [
       "<div>\n",
       "<style scoped>\n",
       "    .dataframe tbody tr th:only-of-type {\n",
       "        vertical-align: middle;\n",
       "    }\n",
       "\n",
       "    .dataframe tbody tr th {\n",
       "        vertical-align: top;\n",
       "    }\n",
       "\n",
       "    .dataframe thead th {\n",
       "        text-align: right;\n",
       "    }\n",
       "</style>\n",
       "<table border=\"1\" class=\"dataframe\">\n",
       "  <thead>\n",
       "    <tr style=\"text-align: right;\">\n",
       "      <th></th>\n",
       "      <th>Ticker</th>\n",
       "      <th>Date</th>\n",
       "      <th>Time</th>\n",
       "      <th>Open</th>\n",
       "      <th>High</th>\n",
       "      <th>Low</th>\n",
       "      <th>Close</th>\n",
       "      <th>Volume</th>\n",
       "      <th>Open Interest</th>\n",
       "    </tr>\n",
       "  </thead>\n",
       "  <tbody>\n",
       "    <tr>\n",
       "      <th>0</th>\n",
       "      <td>AARTIIND24NOV22600PE.NFO</td>\n",
       "      <td>14/11/2022</td>\n",
       "      <td>09:30:59</td>\n",
       "      <td>1.80</td>\n",
       "      <td>1.80</td>\n",
       "      <td>1.50</td>\n",
       "      <td>1.50</td>\n",
       "      <td>2550</td>\n",
       "      <td>60350</td>\n",
       "    </tr>\n",
       "    <tr>\n",
       "      <th>1</th>\n",
       "      <td>AARTIIND24NOV22600PE.NFO</td>\n",
       "      <td>14/11/2022</td>\n",
       "      <td>09:31:59</td>\n",
       "      <td>1.50</td>\n",
       "      <td>1.50</td>\n",
       "      <td>1.50</td>\n",
       "      <td>1.50</td>\n",
       "      <td>4250</td>\n",
       "      <td>60350</td>\n",
       "    </tr>\n",
       "    <tr>\n",
       "      <th>2</th>\n",
       "      <td>AARTIIND24NOV22600PE.NFO</td>\n",
       "      <td>14/11/2022</td>\n",
       "      <td>09:32:59</td>\n",
       "      <td>1.50</td>\n",
       "      <td>1.50</td>\n",
       "      <td>1.25</td>\n",
       "      <td>1.25</td>\n",
       "      <td>1700</td>\n",
       "      <td>67150</td>\n",
       "    </tr>\n",
       "    <tr>\n",
       "      <th>3</th>\n",
       "      <td>AARTIIND24NOV22600PE.NFO</td>\n",
       "      <td>14/11/2022</td>\n",
       "      <td>09:33:59</td>\n",
       "      <td>1.35</td>\n",
       "      <td>1.35</td>\n",
       "      <td>1.35</td>\n",
       "      <td>1.35</td>\n",
       "      <td>850</td>\n",
       "      <td>67150</td>\n",
       "    </tr>\n",
       "    <tr>\n",
       "      <th>4</th>\n",
       "      <td>AARTIIND24NOV22600PE.NFO</td>\n",
       "      <td>14/11/2022</td>\n",
       "      <td>09:34:59</td>\n",
       "      <td>1.35</td>\n",
       "      <td>1.50</td>\n",
       "      <td>1.35</td>\n",
       "      <td>1.50</td>\n",
       "      <td>850</td>\n",
       "      <td>67150</td>\n",
       "    </tr>\n",
       "    <tr>\n",
       "      <th>...</th>\n",
       "      <td>...</td>\n",
       "      <td>...</td>\n",
       "      <td>...</td>\n",
       "      <td>...</td>\n",
       "      <td>...</td>\n",
       "      <td>...</td>\n",
       "      <td>...</td>\n",
       "      <td>...</td>\n",
       "      <td>...</td>\n",
       "    </tr>\n",
       "    <tr>\n",
       "      <th>968256</th>\n",
       "      <td>ZYDUSLIFE-III.NFO</td>\n",
       "      <td>14/11/2022</td>\n",
       "      <td>10:16:59</td>\n",
       "      <td>427.10</td>\n",
       "      <td>427.10</td>\n",
       "      <td>427.10</td>\n",
       "      <td>427.10</td>\n",
       "      <td>1800</td>\n",
       "      <td>61200</td>\n",
       "    </tr>\n",
       "    <tr>\n",
       "      <th>968257</th>\n",
       "      <td>ZYDUSLIFE-III.NFO</td>\n",
       "      <td>14/11/2022</td>\n",
       "      <td>10:32:59</td>\n",
       "      <td>428.30</td>\n",
       "      <td>428.30</td>\n",
       "      <td>428.30</td>\n",
       "      <td>428.30</td>\n",
       "      <td>3600</td>\n",
       "      <td>59400</td>\n",
       "    </tr>\n",
       "    <tr>\n",
       "      <th>968258</th>\n",
       "      <td>ZYDUSLIFE-III.NFO</td>\n",
       "      <td>14/11/2022</td>\n",
       "      <td>11:06:59</td>\n",
       "      <td>430.30</td>\n",
       "      <td>430.30</td>\n",
       "      <td>430.30</td>\n",
       "      <td>430.30</td>\n",
       "      <td>1800</td>\n",
       "      <td>55800</td>\n",
       "    </tr>\n",
       "    <tr>\n",
       "      <th>968259</th>\n",
       "      <td>ZYDUSLIFE-III.NFO</td>\n",
       "      <td>14/11/2022</td>\n",
       "      <td>11:11:59</td>\n",
       "      <td>430.30</td>\n",
       "      <td>430.30</td>\n",
       "      <td>430.00</td>\n",
       "      <td>430.00</td>\n",
       "      <td>1800</td>\n",
       "      <td>55800</td>\n",
       "    </tr>\n",
       "    <tr>\n",
       "      <th>968260</th>\n",
       "      <td>ZYDUSLIFE-III.NFO</td>\n",
       "      <td>14/11/2022</td>\n",
       "      <td>11:24:59</td>\n",
       "      <td>430.00</td>\n",
       "      <td>430.00</td>\n",
       "      <td>430.00</td>\n",
       "      <td>430.00</td>\n",
       "      <td>1800</td>\n",
       "      <td>57600</td>\n",
       "    </tr>\n",
       "  </tbody>\n",
       "</table>\n",
       "<p>968261 rows × 9 columns</p>\n",
       "</div>"
      ],
      "text/plain": [
       "                          Ticker        Date      Time    Open    High  \\\n",
       "0       AARTIIND24NOV22600PE.NFO  14/11/2022  09:30:59    1.80    1.80   \n",
       "1       AARTIIND24NOV22600PE.NFO  14/11/2022  09:31:59    1.50    1.50   \n",
       "2       AARTIIND24NOV22600PE.NFO  14/11/2022  09:32:59    1.50    1.50   \n",
       "3       AARTIIND24NOV22600PE.NFO  14/11/2022  09:33:59    1.35    1.35   \n",
       "4       AARTIIND24NOV22600PE.NFO  14/11/2022  09:34:59    1.35    1.50   \n",
       "...                          ...         ...       ...     ...     ...   \n",
       "968256         ZYDUSLIFE-III.NFO  14/11/2022  10:16:59  427.10  427.10   \n",
       "968257         ZYDUSLIFE-III.NFO  14/11/2022  10:32:59  428.30  428.30   \n",
       "968258         ZYDUSLIFE-III.NFO  14/11/2022  11:06:59  430.30  430.30   \n",
       "968259         ZYDUSLIFE-III.NFO  14/11/2022  11:11:59  430.30  430.30   \n",
       "968260         ZYDUSLIFE-III.NFO  14/11/2022  11:24:59  430.00  430.00   \n",
       "\n",
       "           Low   Close  Volume  Open Interest  \n",
       "0         1.50    1.50    2550          60350  \n",
       "1         1.50    1.50    4250          60350  \n",
       "2         1.25    1.25    1700          67150  \n",
       "3         1.35    1.35     850          67150  \n",
       "4         1.35    1.50     850          67150  \n",
       "...        ...     ...     ...            ...  \n",
       "968256  427.10  427.10    1800          61200  \n",
       "968257  428.30  428.30    3600          59400  \n",
       "968258  430.30  430.30    1800          55800  \n",
       "968259  430.00  430.00    1800          55800  \n",
       "968260  430.00  430.00    1800          57600  \n",
       "\n",
       "[968261 rows x 9 columns]"
      ]
     },
     "execution_count": 9,
     "metadata": {},
     "output_type": "execute_result"
    }
   ],
   "source": [
    "df"
   ]
  },
  {
   "cell_type": "code",
   "execution_count": 11,
   "metadata": {},
   "outputs": [
    {
     "name": "stderr",
     "output_type": "stream",
     "text": [
      "2266.65s - pydevd: Sending message related to process being replaced timed-out after 5 seconds\n"
     ]
    },
    {
     "name": "stdout",
     "output_type": "stream",
     "text": [
      "Collecting pymongo\n",
      "  Using cached pymongo-4.7.2-cp312-cp312-macosx_11_0_arm64.whl.metadata (22 kB)\n",
      "Collecting dnspython<3.0.0,>=1.16.0 (from pymongo)\n",
      "  Using cached dnspython-2.6.1-py3-none-any.whl.metadata (5.8 kB)\n",
      "Using cached pymongo-4.7.2-cp312-cp312-macosx_11_0_arm64.whl (486 kB)\n",
      "Using cached dnspython-2.6.1-py3-none-any.whl (307 kB)\n",
      "Installing collected packages: dnspython, pymongo\n",
      "Successfully installed dnspython-2.6.1 pymongo-4.7.2\n"
     ]
    }
   ],
   "source": [
    "!pip install pymongo"
   ]
  },
  {
   "cell_type": "code",
   "execution_count": 12,
   "metadata": {},
   "outputs": [],
   "source": [
    "from pymongo import MongoClient"
   ]
  },
  {
   "cell_type": "code",
   "execution_count": 15,
   "metadata": {},
   "outputs": [],
   "source": [
    "mongo_uri = \"mongodb://localhost:5000/\""
   ]
  },
  {
   "cell_type": "code",
   "execution_count": 16,
   "metadata": {},
   "outputs": [],
   "source": [
    "client = MongoClient(mongo_uri)"
   ]
  },
  {
   "cell_type": "code",
   "execution_count": null,
   "metadata": {},
   "outputs": [],
   "source": [
    "db = client['options_equity_trades_rough']\n",
    "collection = db['options_data']\n"
   ]
  }
 ],
 "metadata": {
  "kernelspec": {
   "display_name": "Python 3",
   "language": "python",
   "name": "python3"
  },
  "language_info": {
   "codemirror_mode": {
    "name": "ipython",
    "version": 3
   },
   "file_extension": ".py",
   "mimetype": "text/x-python",
   "name": "python",
   "nbconvert_exporter": "python",
   "pygments_lexer": "ipython3",
   "version": "3.12.3"
  }
 },
 "nbformat": 4,
 "nbformat_minor": 2
}
